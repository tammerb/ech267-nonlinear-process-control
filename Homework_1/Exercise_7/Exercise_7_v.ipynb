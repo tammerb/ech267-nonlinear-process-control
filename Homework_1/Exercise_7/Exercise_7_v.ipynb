{
 "cells": [
  {
   "cell_type": "code",
   "execution_count": 1,
   "metadata": {},
   "outputs": [],
   "source": [
    "import sympy as sm\n",
    "import sympy.physics.mechanics as me\n",
    "me.init_vprinting()\n",
    "l1, l2 = sm.symbols('lambda_1 lambda_2')"
   ]
  },
  {
   "cell_type": "code",
   "execution_count": 2,
   "metadata": {},
   "outputs": [
    {
     "data": {
      "image/png": "[encoded data removed]",
      "text/latex": [
       "$\\displaystyle \\left[\\begin{matrix}2 & -1\\\\2 & 0\\end{matrix}\\right]$"
      ],
      "text/plain": [
       "⎡2  -1⎤\n",
       "⎢     ⎥\n",
       "⎣2  0 ⎦"
      ]
     },
     "execution_count": 2,
     "metadata": {},
     "output_type": "execute_result"
    }
   ],
   "source": [
    "A = sm.Matrix([[2, -1],[2, 0]])\n",
    "A"
   ]
  },
  {
   "cell_type": "code",
   "execution_count": 3,
   "metadata": {},
   "outputs": [],
   "source": [
    "V = A.eigenvects()\n",
    "l1 = V[0][0]\n",
    "l2 = V[1][0]\n",
    "v1 = V[0][2][0]\n",
    "v2 = V[1][2][0]"
   ]
  },
  {
   "cell_type": "code",
   "execution_count": 4,
   "metadata": {},
   "outputs": [
    {
     "data": {
      "image/png": "[encoded data removed]",
      "text/latex": [
       "$\\displaystyle \\left[\\begin{matrix}\\frac{1}{2} - \\frac{i}{2}\\\\1\\end{matrix}\\right]$"
      ],
      "text/plain": [
       "⎡1   ⅈ⎤\n",
       "⎢─ - ─⎥\n",
       "⎢2   2⎥\n",
       "⎢     ⎥\n",
       "⎣  1  ⎦"
      ]
     },
     "execution_count": 4,
     "metadata": {},
     "output_type": "execute_result"
    }
   ],
   "source": [
    "v1 # first eigenvector"
   ]
  },
  {
   "cell_type": "code",
   "execution_count": 5,
   "metadata": {},
   "outputs": [
    {
     "data": {
      "image/png": "[encoded data removed]",
      "text/latex": [
       "$\\displaystyle \\left[\\begin{matrix}\\frac{1}{2} + \\frac{i}{2}\\\\1\\end{matrix}\\right]$"
      ],
      "text/plain": [
       "⎡1   ⅈ⎤\n",
       "⎢─ + ─⎥\n",
       "⎢2   2⎥\n",
       "⎢     ⎥\n",
       "⎣  1  ⎦"
      ]
     },
     "execution_count": 5,
     "metadata": {},
     "output_type": "execute_result"
    }
   ],
   "source": [
    "v2 # second eigenvector"
   ]
  },
  {
   "cell_type": "code",
   "execution_count": 6,
   "metadata": {},
   "outputs": [
    {
     "data": {
      "image/png": "[encoded data removed]",
      "text/latex": [
       "$\\displaystyle 1 - i$"
      ],
      "text/plain": [
       "1 - ⅈ"
      ]
     },
     "execution_count": 6,
     "metadata": {},
     "output_type": "execute_result"
    }
   ],
   "source": [
    "l1 # first eigenvalue"
   ]
  },
  {
   "cell_type": "code",
   "execution_count": 7,
   "metadata": {},
   "outputs": [
    {
     "data": {
      "image/png": "[encoded data removed]",
      "text/latex": [
       "$\\displaystyle 1 + i$"
      ],
      "text/plain": [
       "1 + ⅈ"
      ]
     },
     "execution_count": 7,
     "metadata": {},
     "output_type": "execute_result"
    }
   ],
   "source": [
    "l2 # second eigenvalue"
   ]
  },
  {
   "cell_type": "code",
   "execution_count": 8,
   "metadata": {},
   "outputs": [
    {
     "data": {
      "image/png": "[encoded data removed]",
      "text/latex": [
       "$\\displaystyle \\left[\\begin{matrix}\\frac{1}{2} - \\frac{i}{2} & \\frac{1}{2} + \\frac{i}{2}\\\\1 & 1\\end{matrix}\\right]$"
      ],
      "text/plain": [
       "⎡1   ⅈ  1   ⅈ⎤\n",
       "⎢─ - ─  ─ + ─⎥\n",
       "⎢2   2  2   2⎥\n",
       "⎢            ⎥\n",
       "⎣  1      1  ⎦"
      ]
     },
     "execution_count": 8,
     "metadata": {},
     "output_type": "execute_result"
    }
   ],
   "source": [
    "M = sm.Matrix([[v1, v2]])\n",
    "M"
   ]
  },
  {
   "cell_type": "code",
   "execution_count": 9,
   "metadata": {},
   "outputs": [
    {
     "data": {
      "text/plain": [
       "False"
      ]
     },
     "execution_count": 9,
     "metadata": {},
     "output_type": "execute_result"
    }
   ],
   "source": [
    "A*v1 == l1 * v1 and A*v2 == l2 * v2  # sanity check"
   ]
  },
  {
   "cell_type": "code",
   "execution_count": 10,
   "metadata": {},
   "outputs": [
    {
     "data": {
      "image/png": "[encoded data removed]",
      "text/latex": [
       "$\\displaystyle \\left[\\begin{matrix}\\left(\\frac{1}{2} - \\frac{i}{2}\\right) \\left(1 + i\\right) - i & - i + \\left(\\frac{1}{2} + \\frac{i}{2}\\right) \\left(1 + i\\right)\\\\\\left(\\frac{1}{2} - \\frac{i}{2}\\right) \\left(1 - i\\right) + i & \\left(\\frac{1}{2} + \\frac{i}{2}\\right) \\left(1 - i\\right) + i\\end{matrix}\\right]$"
      ],
      "text/plain": [
       "⎡⎛1   ⅈ⎞                   ⎛1   ⅈ⎞        ⎤\n",
       "⎢⎜─ - ─⎟⋅(1 + ⅈ) - ⅈ  -ⅈ + ⎜─ + ─⎟⋅(1 + ⅈ)⎥\n",
       "⎢⎝2   2⎠                   ⎝2   2⎠        ⎥\n",
       "⎢                                         ⎥\n",
       "⎢⎛1   ⅈ⎞              ⎛1   ⅈ⎞             ⎥\n",
       "⎢⎜─ - ─⎟⋅(1 - ⅈ) + ⅈ  ⎜─ + ─⎟⋅(1 - ⅈ) + ⅈ ⎥\n",
       "⎣⎝2   2⎠              ⎝2   2⎠             ⎦"
      ]
     },
     "execution_count": 10,
     "metadata": {},
     "output_type": "execute_result"
    }
   ],
   "source": [
    "M**-1 * A * M"
   ]
  },
  {
   "cell_type": "code",
   "execution_count": null,
   "metadata": {},
   "outputs": [],
   "source": []
  },
  {
   "cell_type": "code",
   "execution_count": null,
   "metadata": {},
   "outputs": [],
   "source": []
  },
  {
   "cell_type": "code",
   "execution_count": null,
   "metadata": {},
   "outputs": [],
   "source": []
  }
 ],
 "metadata": {
  "kernelspec": {
   "display_name": "Python 3",
   "language": "python",
   "name": "python3"
  },
  "language_info": {
   "codemirror_mode": {
    "name": "ipython",
    "version": 3
   },
   "file_extension": ".py",
   "mimetype": "text/x-python",
   "name": "python",
   "nbconvert_exporter": "python",
   "pygments_lexer": "ipython3",
   "version": "3.7.8"
  }
 },
 "nbformat": 4,
 "nbformat_minor": 4
}
