{
 "cells": [
  {
   "cell_type": "code",
   "execution_count": 1,
   "metadata": {},
   "outputs": [],
   "source": [
    "import sympy as sm\n",
    "import sympy.physics.mechanics as me\n",
    "me.init_vprinting()\n",
    "x1, x2 = me.dynamicsymbols('x_1 x_2')"
   ]
  },
  {
   "cell_type": "markdown",
   "metadata": {},
   "source": [
    "#### (6)"
   ]
  },
  {
   "cell_type": "code",
   "execution_count": 2,
   "metadata": {},
   "outputs": [],
   "source": [
    "rhs1 = (x1 - x2)*(x1**2 + x2**2 - 1)\n",
    "rhs2 = (x1 + x2)*(x1**2 + x2**2 - 1)"
   ]
  },
  {
   "cell_type": "code",
   "execution_count": 3,
   "metadata": {},
   "outputs": [],
   "source": [
    "eq1 = sm.Eq(0, rhs1)\n",
    "eq2 = sm.Eq(0, rhs2)"
   ]
  },
  {
   "cell_type": "markdown",
   "metadata": {},
   "source": [
    "Equilibrium points occur when:"
   ]
  },
  {
   "cell_type": "code",
   "execution_count": 4,
   "metadata": {},
   "outputs": [
    {
     "data": {
      "image/png": "[encoded data removed]",
      "text/latex": [
       "$\\displaystyle 0 = \\left(x_{1} - x_{2}\\right) \\left(x_{1}^{2} + x_{2}^{2} - 1\\right)$"
      ],
      "text/plain": [
       "              ⎛  2     2    ⎞\n",
       "0 = (x₁ - x₂)⋅⎝x₁  + x₂  - 1⎠"
      ]
     },
     "execution_count": 4,
     "metadata": {},
     "output_type": "execute_result"
    }
   ],
   "source": [
    "eq1"
   ]
  },
  {
   "cell_type": "code",
   "execution_count": 5,
   "metadata": {},
   "outputs": [
    {
     "data": {
      "image/png": "[encoded data removed]",
      "text/latex": [
       "$\\displaystyle 0 = \\left(x_{1} + x_{2}\\right) \\left(x_{1}^{2} + x_{2}^{2} - 1\\right)$"
      ],
      "text/plain": [
       "              ⎛  2     2    ⎞\n",
       "0 = (x₁ + x₂)⋅⎝x₁  + x₂  - 1⎠"
      ]
     },
     "execution_count": 5,
     "metadata": {},
     "output_type": "execute_result"
    }
   ],
   "source": [
    "eq2"
   ]
  },
  {
   "cell_type": "markdown",
   "metadata": {},
   "source": [
    "Equilibrium points are:"
   ]
  },
  {
   "cell_type": "code",
   "execution_count": 6,
   "metadata": {},
   "outputs": [
    {
     "data": {
      "image/png": "[encoded data removed]",
      "text/latex": [
       "$\\displaystyle \\left[ \\left\\{ x_{1} : - \\sqrt{1 - x_{2}^{2}}\\right\\}, \\  \\left\\{ x_{1} : \\sqrt{1 - x_{2}^{2}}\\right\\}, \\  \\left\\{ x_{1} : 0, \\  x_{2} : 0\\right\\}, \\  \\left\\{ x_{1} : - \\frac{\\sqrt{2}}{2}, \\  x_{2} : \\frac{\\sqrt{2}}{2}\\right\\}, \\  \\left\\{ x_{1} : \\frac{\\sqrt{2}}{2}, \\  x_{2} : - \\frac{\\sqrt{2}}{2}\\right\\}\\right]$"
      ],
      "text/plain": [
       "⎡⎧        _________⎫  ⎧       _________⎫                                      \n",
       "⎢⎨       ╱       2 ⎬  ⎨      ╱       2 ⎬                  ⎧    -√2       √2⎫  \n",
       "⎢⎩x₁: -╲╱  1 - x₂  ⎭, ⎩x₁: ╲╱  1 - x₂  ⎭, {x₁: 0, x₂: 0}, ⎨x₁: ────, x₂: ──⎬, \n",
       "⎣                                                         ⎩     2        2 ⎭  \n",
       "\n",
       "                  ⎤\n",
       "⎧    √2      -√2 ⎫⎥\n",
       "⎨x₁: ──, x₂: ────⎬⎥\n",
       "⎩    2        2  ⎭⎦"
      ]
     },
     "execution_count": 6,
     "metadata": {},
     "output_type": "execute_result"
    }
   ],
   "source": [
    "eqpts = sm.solve([eq1, eq2], x1, x2)\n",
    "eqpts"
   ]
  },
  {
   "cell_type": "markdown",
   "metadata": {},
   "source": [
    "Compute Jacobian:"
   ]
  },
  {
   "cell_type": "code",
   "execution_count": 7,
   "metadata": {},
   "outputs": [
    {
     "data": {
      "image/png": "[encoded data removed]",
      "text/latex": [
       "$\\displaystyle \\left[\\begin{matrix}2 \\left(x_{1} - x_{2}\\right) x_{1} + x_{1}^{2} + x_{2}^{2} - 1 & 2 \\left(x_{1} - x_{2}\\right) x_{2} - x_{1}^{2} - x_{2}^{2} + 1\\\\2 \\left(x_{1} + x_{2}\\right) x_{1} + x_{1}^{2} + x_{2}^{2} - 1 & 2 \\left(x_{1} + x_{2}\\right) x_{2} + x_{1}^{2} + x_{2}^{2} - 1\\end{matrix}\\right]$"
      ],
      "text/plain": [
       "⎡                   2     2                         2     2    ⎤\n",
       "⎢2⋅(x₁ - x₂)⋅x₁ + x₁  + x₂  - 1  2⋅(x₁ - x₂)⋅x₂ - x₁  - x₂  + 1⎥\n",
       "⎢                                                              ⎥\n",
       "⎢                   2     2                         2     2    ⎥\n",
       "⎣2⋅(x₁ + x₂)⋅x₁ + x₁  + x₂  - 1  2⋅(x₁ + x₂)⋅x₂ + x₁  + x₂  - 1⎦"
      ]
     },
     "execution_count": 7,
     "metadata": {},
     "output_type": "execute_result"
    }
   ],
   "source": [
    "X = sm.Matrix([[rhs1], [rhs2]])\n",
    "Y = sm.Matrix([x1, x2])\n",
    "J = X.jacobian(Y)\n",
    "J"
   ]
  },
  {
   "cell_type": "code",
   "execution_count": 8,
   "metadata": {},
   "outputs": [],
   "source": [
    "evaluatedJacobians = []\n",
    "for point in eqpts:\n",
    "    jeval = J.subs(point)\n",
    "    evaluatedJacobians.append(jeval)"
   ]
  },
  {
   "cell_type": "code",
   "execution_count": 9,
   "metadata": {},
   "outputs": [
    {
     "data": {
      "image/png": "[encoded data removed]",
      "text/latex": [
       "$\\displaystyle \\left[\\begin{matrix}- 2 \\sqrt{1 - x_{2}^{2}} \\left(- \\sqrt{1 - x_{2}^{2}} - x_{2}\\right) & 2 \\left(- \\sqrt{1 - x_{2}^{2}} - x_{2}\\right) x_{2}\\\\- 2 \\sqrt{1 - x_{2}^{2}} \\left(- \\sqrt{1 - x_{2}^{2}} + x_{2}\\right) & 2 \\left(- \\sqrt{1 - x_{2}^{2}} + x_{2}\\right) x_{2}\\end{matrix}\\right]$"
      ],
      "text/plain": [
       "⎡      _________ ⎛     _________     ⎞    ⎛     _________     ⎞   ⎤\n",
       "⎢     ╱       2  ⎜    ╱       2      ⎟    ⎜    ╱       2      ⎟   ⎥\n",
       "⎢-2⋅╲╱  1 - x₂  ⋅⎝- ╲╱  1 - x₂   - x₂⎠  2⋅⎝- ╲╱  1 - x₂   - x₂⎠⋅x₂⎥\n",
       "⎢                                                                 ⎥\n",
       "⎢      _________ ⎛     _________     ⎞    ⎛     _________     ⎞   ⎥\n",
       "⎢     ╱       2  ⎜    ╱       2      ⎟    ⎜    ╱       2      ⎟   ⎥\n",
       "⎣-2⋅╲╱  1 - x₂  ⋅⎝- ╲╱  1 - x₂   + x₂⎠  2⋅⎝- ╲╱  1 - x₂   + x₂⎠⋅x₂⎦"
      ]
     },
     "execution_count": 9,
     "metadata": {},
     "output_type": "execute_result"
    }
   ],
   "source": [
    "evaluatedJacobians[0]"
   ]
  },
  {
   "cell_type": "code",
   "execution_count": 10,
   "metadata": {},
   "outputs": [
    {
     "data": {
      "image/png": "[encoded data removed]",
      "text/latex": [
       "$\\displaystyle \\left\\{ 0 : 1, \\  2 : 1\\right\\}$"
      ],
      "text/plain": [
       "{0: 1, 2: 1}"
      ]
     },
     "execution_count": 10,
     "metadata": {},
     "output_type": "execute_result"
    }
   ],
   "source": [
    "evaluatedJacobians[0].eigenvals()"
   ]
  },
  {
   "cell_type": "code",
   "execution_count": 11,
   "metadata": {},
   "outputs": [
    {
     "data": {
      "image/png": "[encoded data removed]",
      "text/latex": [
       "$\\displaystyle \\left[\\begin{matrix}2 \\sqrt{1 - x_{2}^{2}} \\left(\\sqrt{1 - x_{2}^{2}} - x_{2}\\right) & 2 \\left(\\sqrt{1 - x_{2}^{2}} - x_{2}\\right) x_{2}\\\\2 \\sqrt{1 - x_{2}^{2}} \\left(\\sqrt{1 - x_{2}^{2}} + x_{2}\\right) & 2 \\left(\\sqrt{1 - x_{2}^{2}} + x_{2}\\right) x_{2}\\end{matrix}\\right]$"
      ],
      "text/plain": [
       "⎡     _________ ⎛   _________     ⎞    ⎛   _________     ⎞   ⎤\n",
       "⎢    ╱       2  ⎜  ╱       2      ⎟    ⎜  ╱       2      ⎟   ⎥\n",
       "⎢2⋅╲╱  1 - x₂  ⋅⎝╲╱  1 - x₂   - x₂⎠  2⋅⎝╲╱  1 - x₂   - x₂⎠⋅x₂⎥\n",
       "⎢                                                            ⎥\n",
       "⎢     _________ ⎛   _________     ⎞    ⎛   _________     ⎞   ⎥\n",
       "⎢    ╱       2  ⎜  ╱       2      ⎟    ⎜  ╱       2      ⎟   ⎥\n",
       "⎣2⋅╲╱  1 - x₂  ⋅⎝╲╱  1 - x₂   + x₂⎠  2⋅⎝╲╱  1 - x₂   + x₂⎠⋅x₂⎦"
      ]
     },
     "execution_count": 11,
     "metadata": {},
     "output_type": "execute_result"
    }
   ],
   "source": [
    "evaluatedJacobians[1]"
   ]
  },
  {
   "cell_type": "code",
   "execution_count": 12,
   "metadata": {},
   "outputs": [
    {
     "data": {
      "image/png": "[encoded data removed]",
      "text/latex": [
       "$\\displaystyle \\left\\{ 0 : 1, \\  2 : 1\\right\\}$"
      ],
      "text/plain": [
       "{0: 1, 2: 1}"
      ]
     },
     "execution_count": 12,
     "metadata": {},
     "output_type": "execute_result"
    }
   ],
   "source": [
    "evaluatedJacobians[1].eigenvals()"
   ]
  },
  {
   "cell_type": "code",
   "execution_count": 13,
   "metadata": {},
   "outputs": [
    {
     "data": {
      "image/png": "[encoded data removed]",
      "text/latex": [
       "$\\displaystyle \\left[\\begin{matrix}-1 & 1\\\\-1 & -1\\end{matrix}\\right]$"
      ],
      "text/plain": [
       "⎡-1  1 ⎤\n",
       "⎢      ⎥\n",
       "⎣-1  -1⎦"
      ]
     },
     "execution_count": 13,
     "metadata": {},
     "output_type": "execute_result"
    }
   ],
   "source": [
    "evaluatedJacobians[2]"
   ]
  },
  {
   "cell_type": "code",
   "execution_count": 14,
   "metadata": {},
   "outputs": [
    {
     "data": {
      "image/png": "[encoded data removed]",
      "text/latex": [
       "$\\displaystyle \\left\\{ -1 - i : 1, \\  -1 + i : 1\\right\\}$"
      ],
      "text/plain": [
       "{-1 - ⅈ: 1, -1 + ⅈ: 1}"
      ]
     },
     "execution_count": 14,
     "metadata": {},
     "output_type": "execute_result"
    }
   ],
   "source": [
    "evaluatedJacobians[2].eigenvals()"
   ]
  },
  {
   "cell_type": "code",
   "execution_count": 15,
   "metadata": {},
   "outputs": [
    {
     "data": {
      "image/png": "[encoded data removed]",
      "text/latex": [
       "$\\displaystyle \\left[\\begin{matrix}2 & -2\\\\0 & 0\\end{matrix}\\right]$"
      ],
      "text/plain": [
       "⎡2  -2⎤\n",
       "⎢     ⎥\n",
       "⎣0  0 ⎦"
      ]
     },
     "execution_count": 15,
     "metadata": {},
     "output_type": "execute_result"
    }
   ],
   "source": [
    "evaluatedJacobians[3]"
   ]
  },
  {
   "cell_type": "code",
   "execution_count": 16,
   "metadata": {},
   "outputs": [
    {
     "data": {
      "image/png": "[encoded data removed]",
      "text/latex": [
       "$\\displaystyle \\left\\{ 0 : 1, \\  2 : 1\\right\\}$"
      ],
      "text/plain": [
       "{0: 1, 2: 1}"
      ]
     },
     "execution_count": 16,
     "metadata": {},
     "output_type": "execute_result"
    }
   ],
   "source": [
    "evaluatedJacobians[3].eigenvals()"
   ]
  },
  {
   "cell_type": "code",
   "execution_count": 17,
   "metadata": {},
   "outputs": [
    {
     "data": {
      "image/png": "[encoded data removed]",
      "text/latex": [
       "$\\displaystyle \\left[\\begin{matrix}2 & -2\\\\0 & 0\\end{matrix}\\right]$"
      ],
      "text/plain": [
       "⎡2  -2⎤\n",
       "⎢     ⎥\n",
       "⎣0  0 ⎦"
      ]
     },
     "execution_count": 17,
     "metadata": {},
     "output_type": "execute_result"
    }
   ],
   "source": [
    "evaluatedJacobians[4]"
   ]
  },
  {
   "cell_type": "code",
   "execution_count": 18,
   "metadata": {},
   "outputs": [
    {
     "data": {
      "image/png": "[encoded data removed]",
      "text/latex": [
       "$\\displaystyle \\left\\{ 0 : 1, \\  2 : 1\\right\\}$"
      ],
      "text/plain": [
       "{0: 1, 2: 1}"
      ]
     },
     "execution_count": 18,
     "metadata": {},
     "output_type": "execute_result"
    }
   ],
   "source": [
    "evaluatedJacobians[4].eigenvals()"
   ]
  }
 ],
 "metadata": {
  "kernelspec": {
   "display_name": "Python 3",
   "language": "python",
   "name": "python3"
  },
  "language_info": {
   "codemirror_mode": {
    "name": "ipython",
    "version": 3
   },
   "file_extension": ".py",
   "mimetype": "text/x-python",
   "name": "python",
   "nbconvert_exporter": "python",
   "pygments_lexer": "ipython3",
   "version": "3.7.8"
  }
 },
 "nbformat": 4,
 "nbformat_minor": 4
}
