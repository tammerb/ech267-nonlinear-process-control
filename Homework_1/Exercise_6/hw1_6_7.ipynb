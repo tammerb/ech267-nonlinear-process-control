{
 "cells": [
  {
   "cell_type": "code",
   "execution_count": 1,
   "metadata": {},
   "outputs": [],
   "source": [
    "import sympy as sm\n",
    "import sympy.physics.mechanics as me\n",
    "me.init_vprinting()\n",
    "x1, x2 = me.dynamicsymbols('x_1 x_2')"
   ]
  },
  {
   "cell_type": "markdown",
   "metadata": {},
   "source": [
    "#### (7)"
   ]
  },
  {
   "cell_type": "code",
   "execution_count": 2,
   "metadata": {},
   "outputs": [],
   "source": [
    "rhs1 = -x1**3 + x2\n",
    "rhs2 = x1 - x2**3"
   ]
  },
  {
   "cell_type": "code",
   "execution_count": 3,
   "metadata": {},
   "outputs": [],
   "source": [
    "eq1 = sm.Eq(0, rhs1)\n",
    "eq2 = sm.Eq(0, rhs2)"
   ]
  },
  {
   "cell_type": "markdown",
   "metadata": {},
   "source": [
    "Equilibrium points occur when:"
   ]
  },
  {
   "cell_type": "code",
   "execution_count": 4,
   "metadata": {},
   "outputs": [
    {
     "data": {
      "image/png": "[encoded data removed]",
      "text/latex": [
       "$\\displaystyle 0 = - x_{1}^{3} + x_{2}$"
      ],
      "text/plain": [
       "        3     \n",
       "0 = - x₁  + x₂"
      ]
     },
     "execution_count": 4,
     "metadata": {},
     "output_type": "execute_result"
    }
   ],
   "source": [
    "eq1"
   ]
  },
  {
   "cell_type": "code",
   "execution_count": 5,
   "metadata": {},
   "outputs": [
    {
     "data": {
      "image/png": "[encoded data removed]",
      "text/latex": [
       "$\\displaystyle 0 = x_{1} - x_{2}^{3}$"
      ],
      "text/plain": [
       "           3\n",
       "0 = x₁ - x₂ "
      ]
     },
     "execution_count": 5,
     "metadata": {},
     "output_type": "execute_result"
    }
   ],
   "source": [
    "eq2"
   ]
  },
  {
   "cell_type": "markdown",
   "metadata": {},
   "source": [
    "Equilibrium points are:"
   ]
  },
  {
   "cell_type": "code",
   "execution_count": 6,
   "metadata": {},
   "outputs": [
    {
     "data": {
      "image/png": "[encoded data removed]",
      "text/latex": [
       "$\\displaystyle \\left[ \\left\\{ x_{1} : -1, \\  x_{2} : -1\\right\\}, \\  \\left\\{ x_{1} : 0, \\  x_{2} : 0\\right\\}, \\  \\left\\{ x_{1} : 1, \\  x_{2} : 1\\right\\}, \\  \\left\\{ x_{1} : - i, \\  x_{2} : i\\right\\}, \\  \\left\\{ x_{1} : i, \\  x_{2} : - i\\right\\}, \\  \\left\\{ x_{1} : \\frac{\\sqrt{2} \\left(-1 + i\\right)}{2}, \\  x_{2} : \\frac{\\sqrt{2}}{2} + \\frac{\\sqrt{2} i}{2}\\right\\}, \\  \\left\\{ x_{1} : \\frac{\\sqrt{2} \\left(1 - i\\right)}{2}, \\  x_{2} : - \\frac{\\sqrt{2}}{2} - \\frac{\\sqrt{2} i}{2}\\right\\}, \\  \\left\\{ x_{1} : - \\frac{\\sqrt{2} \\left(1 + i\\right)}{2}, \\  x_{2} : \\frac{\\sqrt{2}}{2} - \\frac{\\sqrt{2} i}{2}\\right\\}, \\  \\left\\{ x_{1} : \\frac{\\sqrt{2} \\left(1 + i\\right)}{2}, \\  x_{2} : - \\frac{\\sqrt{2}}{2} + \\frac{\\sqrt{2} i}{2}\\right\\}\\right]$"
      ],
      "text/plain": [
       "⎡                                                                             \n",
       "⎢{x₁: -1, x₂: -1}, {x₁: 0, x₂: 0}, {x₁: 1, x₂: 1}, {x₁: -ⅈ, x₂: ⅈ}, {x₁: ⅈ, x₂\n",
       "⎣                                                                             \n",
       "\n",
       "       ⎧    √2⋅(-1 + ⅈ)      √2   √2⋅ⅈ⎫  ⎧    √2⋅(1 - ⅈ)        √2   √2⋅ⅈ⎫  ⎧ \n",
       ": -ⅈ}, ⎨x₁: ───────────, x₂: ── + ────⎬, ⎨x₁: ──────────, x₂: - ── - ────⎬, ⎨x\n",
       "       ⎩         2           2     2  ⎭  ⎩        2             2     2  ⎭  ⎩ \n",
       "\n",
       "   -√2⋅(1 + ⅈ)       √2   √2⋅ⅈ⎫  ⎧    √2⋅(1 + ⅈ)        √2   √2⋅ⅈ⎫⎤\n",
       "₁: ────────────, x₂: ── - ────⎬, ⎨x₁: ──────────, x₂: - ── + ────⎬⎥\n",
       "        2            2     2  ⎭  ⎩        2             2     2  ⎭⎦"
      ]
     },
     "execution_count": 6,
     "metadata": {},
     "output_type": "execute_result"
    }
   ],
   "source": [
    "eqpts = sm.solve([eq1, eq2], x1, x2)\n",
    "eqpts"
   ]
  },
  {
   "cell_type": "markdown",
   "metadata": {},
   "source": [
    "Compute Jacobian:"
   ]
  },
  {
   "cell_type": "code",
   "execution_count": 7,
   "metadata": {},
   "outputs": [
    {
     "data": {
      "image/png": "[encoded data removed]",
      "text/latex": [
       "$\\displaystyle \\left[\\begin{matrix}- 3 x_{1}^{2} & 1\\\\1 & - 3 x_{2}^{2}\\end{matrix}\\right]$"
      ],
      "text/plain": [
       "⎡     2        ⎤\n",
       "⎢-3⋅x₁     1   ⎥\n",
       "⎢              ⎥\n",
       "⎢             2⎥\n",
       "⎣  1     -3⋅x₂ ⎦"
      ]
     },
     "execution_count": 7,
     "metadata": {},
     "output_type": "execute_result"
    }
   ],
   "source": [
    "X = sm.Matrix([[rhs1], [rhs2]])\n",
    "Y = sm.Matrix([x1, x2])\n",
    "J = X.jacobian(Y)\n",
    "J"
   ]
  },
  {
   "cell_type": "code",
   "execution_count": 8,
   "metadata": {},
   "outputs": [],
   "source": [
    "evaluatedJacobians = []\n",
    "for point in eqpts:\n",
    "    jeval = J.subs(point)\n",
    "    evaluatedJacobians.append(jeval)"
   ]
  },
  {
   "cell_type": "code",
   "execution_count": 9,
   "metadata": {},
   "outputs": [
    {
     "data": {
      "image/png": "[encoded data removed]",
      "text/latex": [
       "$\\displaystyle \\left[\\begin{matrix}-3 & 1\\\\1 & -3\\end{matrix}\\right]$"
      ],
      "text/plain": [
       "⎡-3  1 ⎤\n",
       "⎢      ⎥\n",
       "⎣1   -3⎦"
      ]
     },
     "execution_count": 9,
     "metadata": {},
     "output_type": "execute_result"
    }
   ],
   "source": [
    "evaluatedJacobians[0]"
   ]
  },
  {
   "cell_type": "code",
   "execution_count": 10,
   "metadata": {},
   "outputs": [
    {
     "data": {
      "image/png": "[encoded data removed]",
      "text/latex": [
       "$\\displaystyle \\left\\{ -4 : 1, \\  -2 : 1\\right\\}$"
      ],
      "text/plain": [
       "{-4: 1, -2: 1}"
      ]
     },
     "execution_count": 10,
     "metadata": {},
     "output_type": "execute_result"
    }
   ],
   "source": [
    "evaluatedJacobians[0].eigenvals()"
   ]
  },
  {
   "cell_type": "code",
   "execution_count": 11,
   "metadata": {},
   "outputs": [
    {
     "data": {
      "image/png": "[encoded data removed]",
      "text/latex": [
       "$\\displaystyle \\left[\\begin{matrix}0 & 1\\\\1 & 0\\end{matrix}\\right]$"
      ],
      "text/plain": [
       "⎡0  1⎤\n",
       "⎢    ⎥\n",
       "⎣1  0⎦"
      ]
     },
     "execution_count": 11,
     "metadata": {},
     "output_type": "execute_result"
    }
   ],
   "source": [
    "evaluatedJacobians[1]"
   ]
  },
  {
   "cell_type": "code",
   "execution_count": 12,
   "metadata": {},
   "outputs": [
    {
     "data": {
      "image/png": "[encoded data removed]",
      "text/latex": [
       "$\\displaystyle \\left\\{ -1 : 1, \\  1 : 1\\right\\}$"
      ],
      "text/plain": [
       "{-1: 1, 1: 1}"
      ]
     },
     "execution_count": 12,
     "metadata": {},
     "output_type": "execute_result"
    }
   ],
   "source": [
    "evaluatedJacobians[1].eigenvals()"
   ]
  },
  {
   "cell_type": "code",
   "execution_count": 13,
   "metadata": {},
   "outputs": [
    {
     "data": {
      "image/png": "[encoded data removed]",
      "text/latex": [
       "$\\displaystyle \\left[\\begin{matrix}-3 & 1\\\\1 & -3\\end{matrix}\\right]$"
      ],
      "text/plain": [
       "⎡-3  1 ⎤\n",
       "⎢      ⎥\n",
       "⎣1   -3⎦"
      ]
     },
     "execution_count": 13,
     "metadata": {},
     "output_type": "execute_result"
    }
   ],
   "source": [
    "evaluatedJacobians[2]"
   ]
  },
  {
   "cell_type": "code",
   "execution_count": 14,
   "metadata": {},
   "outputs": [
    {
     "data": {
      "image/png": "[encoded data removed]",
      "text/latex": [
       "$\\displaystyle \\left\\{ -4 : 1, \\  -2 : 1\\right\\}$"
      ],
      "text/plain": [
       "{-4: 1, -2: 1}"
      ]
     },
     "execution_count": 14,
     "metadata": {},
     "output_type": "execute_result"
    }
   ],
   "source": [
    "evaluatedJacobians[2].eigenvals()"
   ]
  },
  {
   "cell_type": "code",
   "execution_count": 15,
   "metadata": {},
   "outputs": [
    {
     "data": {
      "image/png": "[encoded data removed]",
      "text/latex": [
       "$\\displaystyle \\left[\\begin{matrix}3 & 1\\\\1 & 3\\end{matrix}\\right]$"
      ],
      "text/plain": [
       "⎡3  1⎤\n",
       "⎢    ⎥\n",
       "⎣1  3⎦"
      ]
     },
     "execution_count": 15,
     "metadata": {},
     "output_type": "execute_result"
    }
   ],
   "source": [
    "evaluatedJacobians[3]"
   ]
  },
  {
   "cell_type": "code",
   "execution_count": 16,
   "metadata": {},
   "outputs": [
    {
     "data": {
      "image/png": "[encoded data removed]",
      "text/latex": [
       "$\\displaystyle \\left\\{ 2 : 1, \\  4 : 1\\right\\}$"
      ],
      "text/plain": [
       "{2: 1, 4: 1}"
      ]
     },
     "execution_count": 16,
     "metadata": {},
     "output_type": "execute_result"
    }
   ],
   "source": [
    "evaluatedJacobians[3].eigenvals()"
   ]
  },
  {
   "cell_type": "code",
   "execution_count": 17,
   "metadata": {},
   "outputs": [
    {
     "data": {
      "image/png": "[encoded data removed]",
      "text/latex": [
       "$\\displaystyle \\left[\\begin{matrix}3 & 1\\\\1 & 3\\end{matrix}\\right]$"
      ],
      "text/plain": [
       "⎡3  1⎤\n",
       "⎢    ⎥\n",
       "⎣1  3⎦"
      ]
     },
     "execution_count": 17,
     "metadata": {},
     "output_type": "execute_result"
    }
   ],
   "source": [
    "evaluatedJacobians[4]"
   ]
  },
  {
   "cell_type": "code",
   "execution_count": 18,
   "metadata": {},
   "outputs": [
    {
     "data": {
      "image/png": "[encoded data removed]",
      "text/latex": [
       "$\\displaystyle \\left\\{ 2 : 1, \\  4 : 1\\right\\}$"
      ],
      "text/plain": [
       "{2: 1, 4: 1}"
      ]
     },
     "execution_count": 18,
     "metadata": {},
     "output_type": "execute_result"
    }
   ],
   "source": [
    "evaluatedJacobians[4].eigenvals()"
   ]
  },
  {
   "cell_type": "code",
   "execution_count": 19,
   "metadata": {},
   "outputs": [
    {
     "data": {
      "image/png": "[encoded data removed]",
      "text/latex": [
       "$\\displaystyle \\left[\\begin{matrix}- \\frac{3 \\left(-1 + i\\right)^{2}}{2} & 1\\\\1 & - 3 \\left(\\frac{\\sqrt{2}}{2} + \\frac{\\sqrt{2} i}{2}\\right)^{2}\\end{matrix}\\right]$"
      ],
      "text/plain": [
       "⎡           2                  ⎤\n",
       "⎢-3⋅(-1 + ⅈ)                   ⎥\n",
       "⎢─────────────         1       ⎥\n",
       "⎢      2                       ⎥\n",
       "⎢                              ⎥\n",
       "⎢                             2⎥\n",
       "⎢                  ⎛√2   √2⋅ⅈ⎞ ⎥\n",
       "⎢      1        -3⋅⎜── + ────⎟ ⎥\n",
       "⎣                  ⎝2     2  ⎠ ⎦"
      ]
     },
     "execution_count": 19,
     "metadata": {},
     "output_type": "execute_result"
    }
   ],
   "source": [
    "evaluatedJacobians[5]"
   ]
  },
  {
   "cell_type": "code",
   "execution_count": 20,
   "metadata": {},
   "outputs": [
    {
     "data": {
      "image/png": "[encoded data removed]",
      "text/latex": [
       "$\\displaystyle \\left\\{ - 2 \\sqrt{2} i : 1, \\  2 \\sqrt{2} i : 1\\right\\}$"
      ],
      "text/plain": [
       "{-2⋅√2⋅ⅈ: 1, 2⋅√2⋅ⅈ: 1}"
      ]
     },
     "execution_count": 20,
     "metadata": {},
     "output_type": "execute_result"
    }
   ],
   "source": [
    "evaluatedJacobians[5].eigenvals()"
   ]
  },
  {
   "cell_type": "code",
   "execution_count": 21,
   "metadata": {},
   "outputs": [
    {
     "data": {
      "image/png": "[encoded data removed]",
      "text/latex": [
       "$\\displaystyle \\left[\\begin{matrix}- \\frac{3 \\left(1 - i\\right)^{2}}{2} & 1\\\\1 & - 3 \\left(- \\frac{\\sqrt{2}}{2} - \\frac{\\sqrt{2} i}{2}\\right)^{2}\\end{matrix}\\right]$"
      ],
      "text/plain": [
       "⎡          2                    ⎤\n",
       "⎢-3⋅(1 - ⅈ)                     ⎥\n",
       "⎢────────────          1        ⎥\n",
       "⎢     2                         ⎥\n",
       "⎢                               ⎥\n",
       "⎢                              2⎥\n",
       "⎢                 ⎛  √2   √2⋅ⅈ⎞ ⎥\n",
       "⎢     1        -3⋅⎜- ── - ────⎟ ⎥\n",
       "⎣                 ⎝  2     2  ⎠ ⎦"
      ]
     },
     "execution_count": 21,
     "metadata": {},
     "output_type": "execute_result"
    }
   ],
   "source": [
    "evaluatedJacobians[6]"
   ]
  },
  {
   "cell_type": "code",
   "execution_count": 22,
   "metadata": {},
   "outputs": [
    {
     "data": {
      "image/png": "[encoded data removed]",
      "text/latex": [
       "$\\displaystyle \\left\\{ - 2 \\sqrt{2} i : 1, \\  2 \\sqrt{2} i : 1\\right\\}$"
      ],
      "text/plain": [
       "{-2⋅√2⋅ⅈ: 1, 2⋅√2⋅ⅈ: 1}"
      ]
     },
     "execution_count": 22,
     "metadata": {},
     "output_type": "execute_result"
    }
   ],
   "source": [
    "evaluatedJacobians[6].eigenvals()"
   ]
  },
  {
   "cell_type": "code",
   "execution_count": 23,
   "metadata": {},
   "outputs": [
    {
     "data": {
      "image/png": "[encoded data removed]",
      "text/latex": [
       "$\\displaystyle \\left[\\begin{matrix}- \\frac{3 \\left(1 + i\\right)^{2}}{2} & 1\\\\1 & - 3 \\left(\\frac{\\sqrt{2}}{2} - \\frac{\\sqrt{2} i}{2}\\right)^{2}\\end{matrix}\\right]$"
      ],
      "text/plain": [
       "⎡          2                  ⎤\n",
       "⎢-3⋅(1 + ⅈ)                   ⎥\n",
       "⎢────────────         1       ⎥\n",
       "⎢     2                       ⎥\n",
       "⎢                             ⎥\n",
       "⎢                            2⎥\n",
       "⎢                 ⎛√2   √2⋅ⅈ⎞ ⎥\n",
       "⎢     1        -3⋅⎜── - ────⎟ ⎥\n",
       "⎣                 ⎝2     2  ⎠ ⎦"
      ]
     },
     "execution_count": 23,
     "metadata": {},
     "output_type": "execute_result"
    }
   ],
   "source": [
    "evaluatedJacobians[7]"
   ]
  },
  {
   "cell_type": "code",
   "execution_count": 24,
   "metadata": {},
   "outputs": [
    {
     "data": {
      "image/png": "[encoded data removed]",
      "text/latex": [
       "$\\displaystyle \\left\\{ - 2 \\sqrt{2} i : 1, \\  2 \\sqrt{2} i : 1\\right\\}$"
      ],
      "text/plain": [
       "{-2⋅√2⋅ⅈ: 1, 2⋅√2⋅ⅈ: 1}"
      ]
     },
     "execution_count": 24,
     "metadata": {},
     "output_type": "execute_result"
    }
   ],
   "source": [
    "evaluatedJacobians[7].eigenvals()"
   ]
  },
  {
   "cell_type": "code",
   "execution_count": 25,
   "metadata": {},
   "outputs": [
    {
     "data": {
      "image/png": "[encoded data removed]",
      "text/latex": [
       "$\\displaystyle \\left[\\begin{matrix}- \\frac{3 \\left(1 + i\\right)^{2}}{2} & 1\\\\1 & - 3 \\left(- \\frac{\\sqrt{2}}{2} + \\frac{\\sqrt{2} i}{2}\\right)^{2}\\end{matrix}\\right]$"
      ],
      "text/plain": [
       "⎡          2                    ⎤\n",
       "⎢-3⋅(1 + ⅈ)                     ⎥\n",
       "⎢────────────          1        ⎥\n",
       "⎢     2                         ⎥\n",
       "⎢                               ⎥\n",
       "⎢                              2⎥\n",
       "⎢                 ⎛  √2   √2⋅ⅈ⎞ ⎥\n",
       "⎢     1        -3⋅⎜- ── + ────⎟ ⎥\n",
       "⎣                 ⎝  2     2  ⎠ ⎦"
      ]
     },
     "execution_count": 25,
     "metadata": {},
     "output_type": "execute_result"
    }
   ],
   "source": [
    "evaluatedJacobians[8]"
   ]
  },
  {
   "cell_type": "code",
   "execution_count": 26,
   "metadata": {},
   "outputs": [
    {
     "data": {
      "image/png": "[encoded data removed]",
      "text/latex": [
       "$\\displaystyle \\left\\{ - 2 \\sqrt{2} i : 1, \\  2 \\sqrt{2} i : 1\\right\\}$"
      ],
      "text/plain": [
       "{-2⋅√2⋅ⅈ: 1, 2⋅√2⋅ⅈ: 1}"
      ]
     },
     "execution_count": 26,
     "metadata": {},
     "output_type": "execute_result"
    }
   ],
   "source": [
    "evaluatedJacobians[8].eigenvals()"
   ]
  }
 ],
 "metadata": {
  "kernelspec": {
   "display_name": "Python 3",
   "language": "python",
   "name": "python3"
  },
  "language_info": {
   "codemirror_mode": {
    "name": "ipython",
    "version": 3
   },
   "file_extension": ".py",
   "mimetype": "text/x-python",
   "name": "python",
   "nbconvert_exporter": "python",
   "pygments_lexer": "ipython3",
   "version": "3.7.8"
  }
 },
 "nbformat": 4,
 "nbformat_minor": 4
}
