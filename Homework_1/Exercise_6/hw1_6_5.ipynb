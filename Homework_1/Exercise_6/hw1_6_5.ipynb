{
 "cells": [
  {
   "cell_type": "code",
   "execution_count": 1,
   "metadata": {},
   "outputs": [],
   "source": [
    "import sympy as sm\n",
    "import sympy.physics.mechanics as me\n",
    "me.init_vprinting()\n",
    "x1, x2 = me.dynamicsymbols('x_1 x_2')"
   ]
  },
  {
   "cell_type": "markdown",
   "metadata": {},
   "source": [
    "#### (5)"
   ]
  },
  {
   "cell_type": "code",
   "execution_count": 2,
   "metadata": {},
   "outputs": [],
   "source": [
    "rhs1 = -x1 + x2*(1+x1)\n",
    "rhs2 = -x1*(1+x1)"
   ]
  },
  {
   "cell_type": "code",
   "execution_count": 3,
   "metadata": {},
   "outputs": [],
   "source": [
    "eq1 = sm.Eq(0, rhs1)\n",
    "eq2 = sm.Eq(0, rhs2)"
   ]
  },
  {
   "cell_type": "markdown",
   "metadata": {},
   "source": [
    "Equilibrium points occur when:"
   ]
  },
  {
   "cell_type": "code",
   "execution_count": 4,
   "metadata": {},
   "outputs": [
    {
     "data": {
      "image/png": "[encoded data removed]",
      "text/latex": [
       "$\\displaystyle 0 = \\left(x_{1} + 1\\right) x_{2} - x_{1}$"
      ],
      "text/plain": [
       "0 = (x₁ + 1)⋅x₂ - x₁"
      ]
     },
     "execution_count": 4,
     "metadata": {},
     "output_type": "execute_result"
    }
   ],
   "source": [
    "eq1"
   ]
  },
  {
   "cell_type": "code",
   "execution_count": 5,
   "metadata": {},
   "outputs": [
    {
     "data": {
      "image/png": "[encoded data removed]",
      "text/latex": [
       "$\\displaystyle 0 = - \\left(x_{1} + 1\\right) x_{1}$"
      ],
      "text/plain": [
       "0 = -(x₁ + 1)⋅x₁"
      ]
     },
     "execution_count": 5,
     "metadata": {},
     "output_type": "execute_result"
    }
   ],
   "source": [
    "eq2"
   ]
  },
  {
   "cell_type": "markdown",
   "metadata": {},
   "source": [
    "Equilibrium points are:"
   ]
  },
  {
   "cell_type": "code",
   "execution_count": 6,
   "metadata": {},
   "outputs": [
    {
     "data": {
      "image/png": "[encoded data removed]",
      "text/latex": [
       "$\\displaystyle \\left[ \\left\\{ x_{1} : 0, \\  x_{2} : 0\\right\\}\\right]$"
      ],
      "text/plain": [
       "[{x₁: 0, x₂: 0}]"
      ]
     },
     "execution_count": 6,
     "metadata": {},
     "output_type": "execute_result"
    }
   ],
   "source": [
    "eqpts = sm.solve([eq1, eq2], x1, x2)\n",
    "eqpts"
   ]
  },
  {
   "cell_type": "markdown",
   "metadata": {},
   "source": [
    "Compute Jacobian:"
   ]
  },
  {
   "cell_type": "code",
   "execution_count": 7,
   "metadata": {},
   "outputs": [
    {
     "data": {
      "image/png": "[encoded data removed]",
      "text/latex": [
       "$\\displaystyle \\left[\\begin{matrix}x_{2} - 1 & x_{1} + 1\\\\- 2 x_{1} - 1 & 0\\end{matrix}\\right]$"
      ],
      "text/plain": [
       "⎡ x₂ - 1    x₁ + 1⎤\n",
       "⎢                 ⎥\n",
       "⎣-2⋅x₁ - 1    0   ⎦"
      ]
     },
     "execution_count": 7,
     "metadata": {},
     "output_type": "execute_result"
    }
   ],
   "source": [
    "X = sm.Matrix([[rhs1], [rhs2]])\n",
    "Y = sm.Matrix([x1, x2])\n",
    "J = X.jacobian(Y)\n",
    "J"
   ]
  },
  {
   "cell_type": "code",
   "execution_count": 8,
   "metadata": {},
   "outputs": [],
   "source": [
    "evaluatedJacobians = []\n",
    "for point in eqpts:\n",
    "    jeval = J.subs(point)\n",
    "    evaluatedJacobians.append(jeval)"
   ]
  },
  {
   "cell_type": "code",
   "execution_count": 9,
   "metadata": {},
   "outputs": [
    {
     "data": {
      "image/png": "[encoded data removed]",
      "text/latex": [
       "$\\displaystyle \\left[\\begin{matrix}-1 & 1\\\\-1 & 0\\end{matrix}\\right]$"
      ],
      "text/plain": [
       "⎡-1  1⎤\n",
       "⎢     ⎥\n",
       "⎣-1  0⎦"
      ]
     },
     "execution_count": 9,
     "metadata": {},
     "output_type": "execute_result"
    }
   ],
   "source": [
    "evaluatedJacobians[0]"
   ]
  },
  {
   "cell_type": "code",
   "execution_count": 10,
   "metadata": {},
   "outputs": [
    {
     "data": {
      "image/png": "[encoded data removed]",
      "text/latex": [
       "$\\displaystyle \\left\\{ - \\frac{1}{2} - \\frac{\\sqrt{3} i}{2} : 1, \\  - \\frac{1}{2} + \\frac{\\sqrt{3} i}{2} : 1\\right\\}$"
      ],
      "text/plain": [
       "⎧  1   √3⋅ⅈ       1   √3⋅ⅈ   ⎫\n",
       "⎨- ─ - ────: 1, - ─ + ────: 1⎬\n",
       "⎩  2    2         2    2     ⎭"
      ]
     },
     "execution_count": 10,
     "metadata": {},
     "output_type": "execute_result"
    }
   ],
   "source": [
    "evaluatedJacobians[0].eigenvals()"
   ]
  }
 ],
 "metadata": {
  "kernelspec": {
   "display_name": "Python 3",
   "language": "python",
   "name": "python3"
  },
  "language_info": {
   "codemirror_mode": {
    "name": "ipython",
    "version": 3
   },
   "file_extension": ".py",
   "mimetype": "text/x-python",
   "name": "python",
   "nbconvert_exporter": "python",
   "pygments_lexer": "ipython3",
   "version": "3.7.8"
  }
 },
 "nbformat": 4,
 "nbformat_minor": 4
}
